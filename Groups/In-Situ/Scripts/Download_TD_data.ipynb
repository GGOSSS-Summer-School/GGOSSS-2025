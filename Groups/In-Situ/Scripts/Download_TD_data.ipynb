{
 "cells": [
  {
   "cell_type": "code",
   "execution_count": 1,
   "id": "19eba800-11c2-4ff6-90e3-7d83067d46c1",
   "metadata": {},
   "outputs": [],
   "source": [
    "import copernicusmarine"
   ]
  },
  {
   "cell_type": "markdown",
   "id": "48220dc3-30c9-42cb-a04e-24d15cead209",
   "metadata": {},
   "source": [
    "# For global map"
   ]
  },
  {
   "cell_type": "code",
   "execution_count": 4,
   "id": "9b8db5e0-3f34-46c0-a9a5-eed8c6eb29e7",
   "metadata": {},
   "outputs": [
    {
     "name": "stderr",
     "output_type": "stream",
     "text": [
      "INFO - 2025-08-27T08:49:33Z - Downloading Copernicus Marine data requires a Copernicus Marine username and password, sign up for free at: https://data.marine.copernicus.eu/register\n"
     ]
    },
    {
     "name": "stdout",
     "output_type": "stream",
     "text": [
      "Copernicus Marine username:"
     ]
    },
    {
     "name": "stdin",
     "output_type": "stream",
     "text": [
      "  ohoundegnonto1\n"
     ]
    },
    {
     "name": "stdout",
     "output_type": "stream",
     "text": [
      "Copernicus Marine password:"
     ]
    },
    {
     "name": "stdin",
     "output_type": "stream",
     "text": [
      "  ········\n"
     ]
    },
    {
     "name": "stderr",
     "output_type": "stream",
     "text": [
      "INFO - 2025-08-27T08:49:55Z - Selected dataset version: \"202411\"\n",
      "INFO - 2025-08-27T08:49:55Z - Selected dataset part: \"default\"\n",
      "INFO - 2025-08-27T08:57:16Z - Starting download. Please wait...\n"
     ]
    },
    {
     "data": {
      "application/vnd.jupyter.widget-view+json": {
       "model_id": "35230d3eceaf4f26a9cf0834ca4b974b",
       "version_major": 2,
       "version_minor": 0
      },
      "text/plain": [
       "  0%|          | 0/42 [00:00<?, ?it/s]"
      ]
     },
     "metadata": {},
     "output_type": "display_data"
    },
    {
     "name": "stderr",
     "output_type": "stream",
     "text": [
      "INFO - 2025-08-27T09:01:17Z - Successfully downloaded to cmems_obs-ins_glo_phy-temp-sal_my_cora-oa_P1M_PSAL-TEMP_180.00W-179.50E_77.00S-90.00N_1.00m_2022-01-01-2022-12-01.nc\n"
     ]
    },
    {
     "data": {
      "text/plain": [
       "ResponseSubset(file_path=PosixPath('cmems_obs-ins_glo_phy-temp-sal_my_cora-oa_P1M_PSAL-TEMP_180.00W-179.50E_77.00S-90.00N_1.00m_2022-01-01-2022-12-01.nc'), output_directory=PosixPath('.'), filename='cmems_obs-ins_glo_phy-temp-sal_my_cora-oa_P1M_PSAL-TEMP_180.00W-179.50E_77.00S-90.00N_1.00m_2022-01-01-2022-12-01.nc', file_size=110.22246564885496, data_transfer_size=238.7871755725191, variables=['PSAL', 'TEMP'], coordinates_extent=[GeographicalExtent(minimum=-180.0, maximum=179.5, unit='degrees_east', coordinate_id='longitude'), GeographicalExtent(minimum=-77.0, maximum=89.99999999999051, unit='degrees_north', coordinate_id='latitude'), TimeExtent(minimum='2022-01-01T00:00:00+00:00', maximum='2022-12-01T00:00:00+00:00', unit='iso8601', coordinate_id='time'), GeographicalExtent(minimum=1.0, maximum=1.0, unit='m', coordinate_id='depth')], status='000', message='The request was successful.', file_status='DOWNLOADED')"
      ]
     },
     "execution_count": 4,
     "metadata": {},
     "output_type": "execute_result"
    }
   ],
   "source": [
    "copernicusmarine.subset(\n",
    "  dataset_id=\"cmems_obs-ins_glo_phy-temp-sal_my_cora-oa_P1M\",\n",
    "  variables=[\"PSAL\", \"TEMP\"],\n",
    "  minimum_longitude=-180,\n",
    "  maximum_longitude=179.5,\n",
    "  minimum_latitude=-77,\n",
    "  maximum_latitude=89.99999999999051,\n",
    "  start_datetime=\"2022-01-01T00:00:00\",\n",
    "  end_datetime=\"2022-12-31T00:00:00\",\n",
    "  minimum_depth=1,\n",
    "  maximum_depth=1,\n",
    ")"
   ]
  },
  {
   "cell_type": "markdown",
   "id": "342f5d84-821a-4ab3-ade4-a4f366618098",
   "metadata": {},
   "source": [
    "# For the Gulf of Guinea"
   ]
  },
  {
   "cell_type": "code",
   "execution_count": 6,
   "id": "9ebe75cf-494a-4603-84f2-4d484ed8c7ca",
   "metadata": {},
   "outputs": [],
   "source": [
    "copernicusmarine.subset(\n",
    "  dataset_id=\"cmems_obs-ins_glo_phy-temp-sal_my_cora-oa_P1M\",\n",
    "  variables=[\"PSAL\", \"TEMP\"],\n",
    "  minimum_longitude=-15,\n",
    "  maximum_longitude=15,\n",
    "  minimum_latitude=-10,\n",
    "  maximum_latitude=10,\n",
    "  start_datetime=\"2022-01-01T00:00:00\",\n",
    "  end_datetime=\"2022-12-31T00:00:00\",\n",
    "  minimum_depth=1,\n",
    "  maximum_depth=1,\n",
    ")"
   ]
  }
 ],
 "metadata": {
  "kernelspec": {
   "display_name": "Python 3 (ipykernel)",
   "language": "python",
   "name": "python3"
  },
  "language_info": {
   "codemirror_mode": {
    "name": "ipython",
    "version": 3
   },
   "file_extension": ".py",
   "mimetype": "text/x-python",
   "name": "python",
   "nbconvert_exporter": "python",
   "pygments_lexer": "ipython3",
   "version": "3.12.11"
  }
 },
 "nbformat": 4,
 "nbformat_minor": 5
}
