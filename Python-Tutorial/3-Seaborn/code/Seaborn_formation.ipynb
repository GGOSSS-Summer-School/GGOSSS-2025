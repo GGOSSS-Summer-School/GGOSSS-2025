{
 "cells": [
  {
   "cell_type": "markdown",
   "metadata": {},
   "source": [
    "# Atelier Python: Introduction à Seaborn\n",
    "![Seaborn](https://assets.streamlinehq.com/image/private/w_300,h_300,ar_1/f_auto/v1/icons/2/seaborn-mazs5fsvs6lluqsnmeik89.png/seaborn-b4pddoh3hfg4k85ug0oazo.png?_a=DATAg1AAZAA0)\n",
    "\n",
    "**contributeur Principaux : Atélier Numérique de l'OMP (Observatoire Midi-Pyrénées)**\n",
    "\n",
    "**R.Guillaume & Velasquez**\n",
    "\n",
    "\n",
    "**Présenté par F_Assene: Ecole d'été GGOSSS-2025**\n",
    "\n",
    "![GGOSSS 2025](https://static.wixstatic.com/media/c030d3_ea7eb8d8e7524f02a790584333376eb9~mv2.png/v1/fill/w_1200,h_630,al_c/c030d3_ea7eb8d8e7524f02a790584333376eb9~mv2.png)\n",
    "\n",
    "## Qu'est-ce que Seaborn et pourquoi l'utiliser?\n",
    "- Outil de visualisation de données construit sur matplotlib\n",
    "- Visualisations complexes rapidement réalisées\n",
    "- Calculs statistiques simples\n",
    "- Visuel (très) esthétique\n",
    "- Optimisé pour des données sous forme de tableaux: **_pandas DataFrames_**\n",
    "\n",
    "\n",
    "## Principales fonctionnalitées\n",
    "\n",
    "### Quatre familles de visualisations :\n",
    "\n",
    "* **Visualisations relationnelles**: \n",
    "\n",
    "Représenter et étudier le lien entre deux variables numériques.\n",
    "\n",
    "* **Visualisations de distribution** : \n",
    "\n",
    "Représenter la distribution d'une variable numérique, que l'on peut grouper, aggréger, ...\n",
    "\n",
    "* **Visualisations catégorique** :\n",
    "\n",
    "Représenter des variables *catégoriques*, avec des valeurs discretes ou sous forme de chaine de caractère.\n",
    "\n",
    "* **Visualisations de régression** :\n",
    "\n",
    "Représenter des liens statistiques entre deux variables numériques.\n",
    "\n",
    "### Des outils supplémentaires :\n",
    "\n",
    "* Gestion de figures avec différentes grilles\n",
    "\n",
    "* Différents thèmes d'affichage\n",
    "\n",
    "* Gestion des couleurs et des colorbars\n",
    "\n",
    "  "
   ]
  },
  {
   "cell_type": "code",
   "execution_count": 3,
   "metadata": {
    "id": "8EvyWUnlP80Q",
    "vscode": {
     "languageId": "python"
    }
   },
   "outputs": [
    {
     "data": {
      "text/html": [
       "<style>.container { width:100% !important; }</style>"
      ],
      "text/plain": [
       "<IPython.core.display.HTML object>"
      ]
     },
     "metadata": {},
     "output_type": "display_data"
    }
   ],
   "source": [
    "import matplotlib.pyplot as plt\n",
    "import yfinance as yf\n",
    "import seaborn as sns\n",
    "import numpy as np\n",
    "import pandas as pd\n",
    "import random\n",
    "from matplotlib_venn import venn2\n",
    "\n",
    "from IPython.display import display, HTML\n",
    "display(HTML(\"<style>.container { width:100% !important; }</style>\"))\n",
    "\n",
    "import warnings\n",
    "warnings.filterwarnings('ignore')\n",
    "\n",
    "\n",
    "repertoire='/home/fernand/GGOSSS-2025/Python-Tutorial/3-Seaborn/'"
   ]
  },
  {
   "cell_type": "code",
   "execution_count": 4,
   "metadata": {},
   "outputs": [],
   "source": [
    "%matplotlib inline"
   ]
  },
  {
   "cell_type": "markdown",
   "metadata": {},
   "source": [
    "# Jeu de données exemple 1: \n",
    "# **Les voitures** : consommation, puissance, acceleration, ..."
   ]
  },
  {
   "cell_type": "code",
   "execution_count": 6,
   "metadata": {},
   "outputs": [
    {
     "data": {
      "text/html": [
       "<div>\n",
       "<style scoped>\n",
       "    .dataframe tbody tr th:only-of-type {\n",
       "        vertical-align: middle;\n",
       "    }\n",
       "\n",
       "    .dataframe tbody tr th {\n",
       "        vertical-align: top;\n",
       "    }\n",
       "\n",
       "    .dataframe thead th {\n",
       "        text-align: right;\n",
       "    }\n",
       "</style>\n",
       "<table border=\"1\" class=\"dataframe\">\n",
       "  <thead>\n",
       "    <tr style=\"text-align: right;\">\n",
       "      <th></th>\n",
       "      <th>mpg</th>\n",
       "      <th>cylinders</th>\n",
       "      <th>displacement</th>\n",
       "      <th>horsepower</th>\n",
       "      <th>weight</th>\n",
       "      <th>acceleration</th>\n",
       "      <th>model_year</th>\n",
       "      <th>origin</th>\n",
       "      <th>name</th>\n",
       "    </tr>\n",
       "  </thead>\n",
       "  <tbody>\n",
       "    <tr>\n",
       "      <th>0</th>\n",
       "      <td>18.0</td>\n",
       "      <td>8</td>\n",
       "      <td>307.0</td>\n",
       "      <td>130.0</td>\n",
       "      <td>3504</td>\n",
       "      <td>12.0</td>\n",
       "      <td>70</td>\n",
       "      <td>usa</td>\n",
       "      <td>chevrolet chevelle malibu</td>\n",
       "    </tr>\n",
       "    <tr>\n",
       "      <th>1</th>\n",
       "      <td>15.0</td>\n",
       "      <td>8</td>\n",
       "      <td>350.0</td>\n",
       "      <td>165.0</td>\n",
       "      <td>3693</td>\n",
       "      <td>11.5</td>\n",
       "      <td>70</td>\n",
       "      <td>usa</td>\n",
       "      <td>buick skylark 320</td>\n",
       "    </tr>\n",
       "    <tr>\n",
       "      <th>2</th>\n",
       "      <td>18.0</td>\n",
       "      <td>8</td>\n",
       "      <td>318.0</td>\n",
       "      <td>150.0</td>\n",
       "      <td>3436</td>\n",
       "      <td>11.0</td>\n",
       "      <td>70</td>\n",
       "      <td>usa</td>\n",
       "      <td>plymouth satellite</td>\n",
       "    </tr>\n",
       "    <tr>\n",
       "      <th>3</th>\n",
       "      <td>16.0</td>\n",
       "      <td>8</td>\n",
       "      <td>304.0</td>\n",
       "      <td>150.0</td>\n",
       "      <td>3433</td>\n",
       "      <td>12.0</td>\n",
       "      <td>70</td>\n",
       "      <td>usa</td>\n",
       "      <td>amc rebel sst</td>\n",
       "    </tr>\n",
       "    <tr>\n",
       "      <th>4</th>\n",
       "      <td>17.0</td>\n",
       "      <td>8</td>\n",
       "      <td>302.0</td>\n",
       "      <td>140.0</td>\n",
       "      <td>3449</td>\n",
       "      <td>10.5</td>\n",
       "      <td>70</td>\n",
       "      <td>usa</td>\n",
       "      <td>ford torino</td>\n",
       "    </tr>\n",
       "    <tr>\n",
       "      <th>...</th>\n",
       "      <td>...</td>\n",
       "      <td>...</td>\n",
       "      <td>...</td>\n",
       "      <td>...</td>\n",
       "      <td>...</td>\n",
       "      <td>...</td>\n",
       "      <td>...</td>\n",
       "      <td>...</td>\n",
       "      <td>...</td>\n",
       "    </tr>\n",
       "    <tr>\n",
       "      <th>393</th>\n",
       "      <td>27.0</td>\n",
       "      <td>4</td>\n",
       "      <td>140.0</td>\n",
       "      <td>86.0</td>\n",
       "      <td>2790</td>\n",
       "      <td>15.6</td>\n",
       "      <td>82</td>\n",
       "      <td>usa</td>\n",
       "      <td>ford mustang gl</td>\n",
       "    </tr>\n",
       "    <tr>\n",
       "      <th>394</th>\n",
       "      <td>44.0</td>\n",
       "      <td>4</td>\n",
       "      <td>97.0</td>\n",
       "      <td>52.0</td>\n",
       "      <td>2130</td>\n",
       "      <td>24.6</td>\n",
       "      <td>82</td>\n",
       "      <td>europe</td>\n",
       "      <td>vw pickup</td>\n",
       "    </tr>\n",
       "    <tr>\n",
       "      <th>395</th>\n",
       "      <td>32.0</td>\n",
       "      <td>4</td>\n",
       "      <td>135.0</td>\n",
       "      <td>84.0</td>\n",
       "      <td>2295</td>\n",
       "      <td>11.6</td>\n",
       "      <td>82</td>\n",
       "      <td>usa</td>\n",
       "      <td>dodge rampage</td>\n",
       "    </tr>\n",
       "    <tr>\n",
       "      <th>396</th>\n",
       "      <td>28.0</td>\n",
       "      <td>4</td>\n",
       "      <td>120.0</td>\n",
       "      <td>79.0</td>\n",
       "      <td>2625</td>\n",
       "      <td>18.6</td>\n",
       "      <td>82</td>\n",
       "      <td>usa</td>\n",
       "      <td>ford ranger</td>\n",
       "    </tr>\n",
       "    <tr>\n",
       "      <th>397</th>\n",
       "      <td>31.0</td>\n",
       "      <td>4</td>\n",
       "      <td>119.0</td>\n",
       "      <td>82.0</td>\n",
       "      <td>2720</td>\n",
       "      <td>19.4</td>\n",
       "      <td>82</td>\n",
       "      <td>usa</td>\n",
       "      <td>chevy s-10</td>\n",
       "    </tr>\n",
       "  </tbody>\n",
       "</table>\n",
       "<p>398 rows × 9 columns</p>\n",
       "</div>"
      ],
      "text/plain": [
       "      mpg  cylinders  displacement  horsepower  weight  acceleration  \\\n",
       "0    18.0          8         307.0       130.0    3504          12.0   \n",
       "1    15.0          8         350.0       165.0    3693          11.5   \n",
       "2    18.0          8         318.0       150.0    3436          11.0   \n",
       "3    16.0          8         304.0       150.0    3433          12.0   \n",
       "4    17.0          8         302.0       140.0    3449          10.5   \n",
       "..    ...        ...           ...         ...     ...           ...   \n",
       "393  27.0          4         140.0        86.0    2790          15.6   \n",
       "394  44.0          4          97.0        52.0    2130          24.6   \n",
       "395  32.0          4         135.0        84.0    2295          11.6   \n",
       "396  28.0          4         120.0        79.0    2625          18.6   \n",
       "397  31.0          4         119.0        82.0    2720          19.4   \n",
       "\n",
       "     model_year  origin                       name  \n",
       "0            70     usa  chevrolet chevelle malibu  \n",
       "1            70     usa          buick skylark 320  \n",
       "2            70     usa         plymouth satellite  \n",
       "3            70     usa              amc rebel sst  \n",
       "4            70     usa                ford torino  \n",
       "..          ...     ...                        ...  \n",
       "393          82     usa            ford mustang gl  \n",
       "394          82  europe                  vw pickup  \n",
       "395          82     usa              dodge rampage  \n",
       "396          82     usa                ford ranger  \n",
       "397          82     usa                 chevy s-10  \n",
       "\n",
       "[398 rows x 9 columns]"
      ]
     },
     "execution_count": 6,
     "metadata": {},
     "output_type": "execute_result"
    }
   ],
   "source": [
    "cars = pd.read_csv('../data/mpg.csv')\n",
    "cars"
   ]
  },
  {
   "cell_type": "markdown",
   "metadata": {},
   "source": [
    "# RELPLOT: \n",
    "***Afficher les liens entre plusieurs variables numériques***\n",
    "![image.png](../code/image.png)\n",
    "\n",
    "## scatterplot (points) ou lineplot (lignes)"
   ]
  },
  {
   "cell_type": "markdown",
   "metadata": {},
   "source": [
    "**Seaborn Background Color**\n",
    "* 'darkgrid'\n",
    "* 'white'\n",
    "* 'dark'\n",
    "* 'whitegrid'\n",
    "* 'ticks'\n",
    "  "
   ]
  },
  {
   "cell_type": "code",
   "execution_count": 9,
   "metadata": {},
   "outputs": [
    {
     "data": {
      "text/plain": [
       "<Figure size 1050x600 with 0 Axes>"
      ]
     },
     "metadata": {},
     "output_type": "display_data"
    },
    {
     "data": {
      "image/png": "[encoded data removed]",
      "text/plain": [
       "<Figure size 922.75x400 with 1 Axes>"
      ]
     },
     "metadata": {},
     "output_type": "display_data"
    }
   ],
   "source": [
    "sns.set_style('white') \n",
    "\n",
    "fig = plt.figure(figsize=(7,4), dpi=150)\n",
    "\n",
    "plot = sns.relplot(kind='scatter',#'line'\n",
    "                   data=cars,\n",
    "                   x='mpg',\n",
    "                   y='horsepower',\n",
    "                   hue='model_year',\n",
    "                   size='weight',\n",
    "                   style='origin',\n",
    "                   #col='origin',\n",
    "                   # col_wrap=1,\n",
    "                   height=4, aspect=2,\n",
    "                   palette='magma'\n",
    "                   )\n",
    "plot\n",
    "plt.savefig(repertoire+'/fig/scatter_cars.png', dpi=fig.dpi, bbox_inches='tight')\n",
    "\n",
    "plt.show()"
   ]
  },
  {
   "cell_type": "code",
   "execution_count": 10,
   "metadata": {},
   "outputs": [
    {
     "data": {
      "text/plain": [
       "<Figure size 1050x600 with 0 Axes>"
      ]
     },
     "metadata": {},
     "output_type": "display_data"
    },
    {
     "data": {
      "image/png": "[encoded data removed]",
      "text/plain": [
       "<Figure size 1293.25x400 with 3 Axes>"
      ]
     },
     "metadata": {},
     "output_type": "display_data"
    }
   ],
   "source": [
    "fig = plt.figure(figsize=(7,4), dpi=150)\n",
    "\n",
    "plot = sns.relplot(kind='line',#'line'\n",
    "                   data=cars,\n",
    "                   x='model_year',\n",
    "                   y='mpg',\n",
    "                   hue='origin',\n",
    "                   # size='weight',\n",
    "                   style='origin',\n",
    "                   col='origin',\n",
    "                   # col_wrap = 4,\n",
    "                   height=4, aspect=1,\n",
    "                   )\n",
    "\n",
    "plt.savefig(repertoire+'/fig/col_cars.png', dpi=fig.dpi, bbox_inches='tight')\n",
    "\n",
    "plt.show()"
   ]
  },
  {
   "cell_type": "markdown",
   "metadata": {},
   "source": [
    "# Jeu de données exemple 2: \n",
    "# **Les Manchots**"
   ]
  },
  {
   "cell_type": "code",
   "execution_count": 12,
   "metadata": {},
   "outputs": [
    {
     "data": {
      "text/html": [
       "<div>\n",
       "<style scoped>\n",
       "    .dataframe tbody tr th:only-of-type {\n",
       "        vertical-align: middle;\n",
       "    }\n",
       "\n",
       "    .dataframe tbody tr th {\n",
       "        vertical-align: top;\n",
       "    }\n",
       "\n",
       "    .dataframe thead th {\n",
       "        text-align: right;\n",
       "    }\n",
       "</style>\n",
       "<table border=\"1\" class=\"dataframe\">\n",
       "  <thead>\n",
       "    <tr style=\"text-align: right;\">\n",
       "      <th></th>\n",
       "      <th>species</th>\n",
       "      <th>island</th>\n",
       "      <th>bill_length_mm</th>\n",
       "      <th>bill_depth_mm</th>\n",
       "      <th>flipper_length_mm</th>\n",
       "      <th>body_mass_g</th>\n",
       "      <th>sex</th>\n",
       "    </tr>\n",
       "  </thead>\n",
       "  <tbody>\n",
       "    <tr>\n",
       "      <th>0</th>\n",
       "      <td>Adelie</td>\n",
       "      <td>Torgersen</td>\n",
       "      <td>39.1</td>\n",
       "      <td>18.7</td>\n",
       "      <td>181.0</td>\n",
       "      <td>3750.0</td>\n",
       "      <td>MALE</td>\n",
       "    </tr>\n",
       "    <tr>\n",
       "      <th>1</th>\n",
       "      <td>Adelie</td>\n",
       "      <td>Torgersen</td>\n",
       "      <td>39.5</td>\n",
       "      <td>17.4</td>\n",
       "      <td>186.0</td>\n",
       "      <td>3800.0</td>\n",
       "      <td>FEMALE</td>\n",
       "    </tr>\n",
       "    <tr>\n",
       "      <th>2</th>\n",
       "      <td>Adelie</td>\n",
       "      <td>Torgersen</td>\n",
       "      <td>40.3</td>\n",
       "      <td>18.0</td>\n",
       "      <td>195.0</td>\n",
       "      <td>3250.0</td>\n",
       "      <td>FEMALE</td>\n",
       "    </tr>\n",
       "    <tr>\n",
       "      <th>3</th>\n",
       "      <td>Adelie</td>\n",
       "      <td>Torgersen</td>\n",
       "      <td>NaN</td>\n",
       "      <td>NaN</td>\n",
       "      <td>NaN</td>\n",
       "      <td>NaN</td>\n",
       "      <td>NaN</td>\n",
       "    </tr>\n",
       "    <tr>\n",
       "      <th>4</th>\n",
       "      <td>Adelie</td>\n",
       "      <td>Torgersen</td>\n",
       "      <td>36.7</td>\n",
       "      <td>19.3</td>\n",
       "      <td>193.0</td>\n",
       "      <td>3450.0</td>\n",
       "      <td>FEMALE</td>\n",
       "    </tr>\n",
       "    <tr>\n",
       "      <th>...</th>\n",
       "      <td>...</td>\n",
       "      <td>...</td>\n",
       "      <td>...</td>\n",
       "      <td>...</td>\n",
       "      <td>...</td>\n",
       "      <td>...</td>\n",
       "      <td>...</td>\n",
       "    </tr>\n",
       "    <tr>\n",
       "      <th>339</th>\n",
       "      <td>Gentoo</td>\n",
       "      <td>Biscoe</td>\n",
       "      <td>NaN</td>\n",
       "      <td>NaN</td>\n",
       "      <td>NaN</td>\n",
       "      <td>NaN</td>\n",
       "      <td>NaN</td>\n",
       "    </tr>\n",
       "    <tr>\n",
       "      <th>340</th>\n",
       "      <td>Gentoo</td>\n",
       "      <td>Biscoe</td>\n",
       "      <td>46.8</td>\n",
       "      <td>14.3</td>\n",
       "      <td>215.0</td>\n",
       "      <td>4850.0</td>\n",
       "      <td>FEMALE</td>\n",
       "    </tr>\n",
       "    <tr>\n",
       "      <th>341</th>\n",
       "      <td>Gentoo</td>\n",
       "      <td>Biscoe</td>\n",
       "      <td>50.4</td>\n",
       "      <td>15.7</td>\n",
       "      <td>222.0</td>\n",
       "      <td>5750.0</td>\n",
       "      <td>MALE</td>\n",
       "    </tr>\n",
       "    <tr>\n",
       "      <th>342</th>\n",
       "      <td>Gentoo</td>\n",
       "      <td>Biscoe</td>\n",
       "      <td>45.2</td>\n",
       "      <td>14.8</td>\n",
       "      <td>212.0</td>\n",
       "      <td>5200.0</td>\n",
       "      <td>FEMALE</td>\n",
       "    </tr>\n",
       "    <tr>\n",
       "      <th>343</th>\n",
       "      <td>Gentoo</td>\n",
       "      <td>Biscoe</td>\n",
       "      <td>49.9</td>\n",
       "      <td>16.1</td>\n",
       "      <td>213.0</td>\n",
       "      <td>5400.0</td>\n",
       "      <td>MALE</td>\n",
       "    </tr>\n",
       "  </tbody>\n",
       "</table>\n",
       "<p>344 rows × 7 columns</p>\n",
       "</div>"
      ],
      "text/plain": [
       "    species     island  bill_length_mm  bill_depth_mm  flipper_length_mm  \\\n",
       "0    Adelie  Torgersen            39.1           18.7              181.0   \n",
       "1    Adelie  Torgersen            39.5           17.4              186.0   \n",
       "2    Adelie  Torgersen            40.3           18.0              195.0   \n",
       "3    Adelie  Torgersen             NaN            NaN                NaN   \n",
       "4    Adelie  Torgersen            36.7           19.3              193.0   \n",
       "..      ...        ...             ...            ...                ...   \n",
       "339  Gentoo     Biscoe             NaN            NaN                NaN   \n",
       "340  Gentoo     Biscoe            46.8           14.3              215.0   \n",
       "341  Gentoo     Biscoe            50.4           15.7              222.0   \n",
       "342  Gentoo     Biscoe            45.2           14.8              212.0   \n",
       "343  Gentoo     Biscoe            49.9           16.1              213.0   \n",
       "\n",
       "     body_mass_g     sex  \n",
       "0         3750.0    MALE  \n",
       "1         3800.0  FEMALE  \n",
       "2         3250.0  FEMALE  \n",
       "3            NaN     NaN  \n",
       "4         3450.0  FEMALE  \n",
       "..           ...     ...  \n",
       "339          NaN     NaN  \n",
       "340       4850.0  FEMALE  \n",
       "341       5750.0    MALE  \n",
       "342       5200.0  FEMALE  \n",
       "343       5400.0    MALE  \n",
       "\n",
       "[344 rows x 7 columns]"
      ]
     },
     "execution_count": 12,
     "metadata": {},
     "output_type": "execute_result"
    }
   ],
   "source": [
    "penguins = pd.read_csv('../data/penguins.csv')\n",
    "penguins"
   ]
  },
  {
   "cell_type": "markdown",
   "metadata": {},
   "source": [
    "# DISPLOT: \n",
    "\n",
    "![image.png](../code/Image_2.png)"
   ]
  },
  {
   "cell_type": "code",
   "execution_count": 14,
   "metadata": {},
   "outputs": [
    {
     "data": {
      "text/plain": [
       "<Figure size 900x450 with 0 Axes>"
      ]
     },
     "metadata": {},
     "output_type": "display_data"
    },
    {
     "data": {
      "image/png": "[encoded data removed]",
      "text/plain": [
       "<Figure size 1309.5x300 with 2 Axes>"
      ]
     },
     "metadata": {},
     "output_type": "display_data"
    }
   ],
   "source": [
    "# 1d\n",
    "fig = plt.figure(figsize=(6,3), dpi=150)\n",
    "\n",
    "sns.displot(kind='kde',#'kde','hist','ecdf'  # kernel density function\n",
    "            data=penguins,\n",
    "            x = 'flipper_length_mm',\n",
    "            col='sex',\n",
    "            hue='species',\n",
    "            rug=True,\n",
    "            multiple='stack', #stack, fill, layer\n",
    "            height=3, \n",
    "            aspect=2,\n",
    "            #alpha=.9\n",
    "            )\n",
    "plt.savefig(repertoire+'/fig/pingouins_1d.png', dpi=fig.dpi, bbox_inches='tight')\n",
    "plt.show()\n"
   ]
  },
  {
   "cell_type": "markdown",
   "metadata": {},
   "source": [
    "## ajouter la valeur du **Skewness** (ceofficient d'assymétrie) pour chaque KDE"
   ]
  },
  {
   "cell_type": "code",
   "execution_count": 16,
   "metadata": {},
   "outputs": [
    {
     "ename": "NameError",
     "evalue": "name 'gaussian_kde' is not defined",
     "output_type": "error",
     "traceback": [
      "\u001b[0;31m---------------------------------------------------------------------------\u001b[0m",
      "\u001b[0;31mNameError\u001b[0m                                 Traceback (most recent call last)",
      "Cell \u001b[0;32mIn[16], line 54\u001b[0m\n\u001b[1;32m     51\u001b[0m skew_val \u001b[38;5;241m=\u001b[39m skew(data\u001b[38;5;241m.\u001b[39mdropna())\n\u001b[1;32m     53\u001b[0m \u001b[38;5;66;03m# Calculer la KDE et trouver le point le plus haut (résultat pas correct, indicatif)\u001b[39;00m\n\u001b[0;32m---> 54\u001b[0m kde \u001b[38;5;241m=\u001b[39m gaussian_kde(data)\n\u001b[1;32m     55\u001b[0m y_range \u001b[38;5;241m=\u001b[39m kde\u001b[38;5;241m.\u001b[39mevaluate(data)\n\u001b[1;32m     57\u001b[0m \u001b[38;5;66;03m# Définir la position y (en coordonnées normalisées 0 à 1 parce que l'axe est transformé)            \u001b[39;00m\n",
      "\u001b[0;31mNameError\u001b[0m: name 'gaussian_kde' is not defined"
     ]
    }
   ],
   "source": [
    "\n",
    "from scipy.stats import skew\n",
    "import matplotlib.transforms as transforms\n",
    "\n",
    "# Créer le FacetGrid\n",
    "fig = plt.figure(figsize=(3,3), dpi=150)\n",
    "g = sns.displot(\n",
    "    kind='kde',\n",
    "    data=penguins,\n",
    "    x='flipper_length_mm',\n",
    "    col='sex',\n",
    "    hue='species',\n",
    "    rug=True,\n",
    "    multiple='stack', \n",
    "    height=3, \n",
    "    aspect=2\n",
    ")\n",
    "\n",
    "# Itérer sur les sous-graphiques pour ajouter les annotations\n",
    "for ax, sex in zip(g.axes.flatten(), penguins['sex'].dropna().unique()):\n",
    "    \n",
    "    # Créer une transformation combinée\n",
    "    # x-axis = coordonnées de données (transData)\n",
    "    # y-axis = coordonnées d'axes (transAxes)\n",
    "    blended_transform = transforms.blended_transform_factory(ax.transData, ax.transAxes)\n",
    "    \n",
    "    # Filtrer les données par sexe\n",
    "    subset_sex = penguins[penguins['sex'] == sex]\n",
    "    \n",
    "    # Itérer sur chaque espèce pour le même sexe\n",
    "    for i, species in enumerate(subset_sex['species'].dropna().unique()):\n",
    "    \n",
    "        # Choisir une couleur pour l'annotation\n",
    "        if species == 'Adelie':\n",
    "            color = 'blue'\n",
    "            ha = 'center'\n",
    "        elif species == 'Gentoo':\n",
    "            color = 'green'\n",
    "            ha = 'center'\n",
    "        else: # Chinstrap\n",
    "            color = 'red'\n",
    "            ha = 'left'\n",
    "            \n",
    "        # Filtrer les données pour la combinaison sexe/espèce\n",
    "        subset_species = subset_sex[subset_sex['species'] == species]\n",
    "        \n",
    "        if not subset_species.empty:\n",
    "            data = subset_species['flipper_length_mm']\n",
    "            \n",
    "            # Calculer la moyenne et l'asymétrie\n",
    "            mean_val = data.mean()\n",
    "            skew_val = skew(data.dropna())\n",
    "\n",
    "            # Calculer la KDE et trouver le point le plus haut (résultat pas correct, indicatif)\n",
    "            kde = gaussian_kde(data)\n",
    "            y_range = kde.evaluate(data)\n",
    "            \n",
    "            # Définir la position y (en coordonnées normalisées 0 à 1 parce que l'axe est transformé)            \n",
    "            max_y = y_range.max()\n",
    "\n",
    "            # Ajouter l'annotation sur le graphique en utilisant la transformation combinée\n",
    "            ax.text(\n",
    "                mean_val-0.01*mean_val, # Position x en coordonnées de données\n",
    "                max_y+3*max_y, # Position y en coordonnées d'axes normalisées\n",
    "                f'{skew_val:.2f}', \n",
    "                transform=blended_transform, # Utilisation de la transformation combinée\n",
    "                ha=ha, \n",
    "                va='top',\n",
    "                fontsize=9, \n",
    "                color='black',\n",
    "                bbox=dict(boxstyle='round,pad=0.2', fc=color, ec=color, lw=0.3, alpha=0.15)\n",
    "            )\n",
    "\n",
    "# Ajuster le titre et la mise en page\n",
    "g.fig.suptitle(\"Distribution de la longueur des ailerons par sexe et espèce\", y=1.02)\n",
    "plt.tight_layout()\n",
    "plt.savefig(repertoire+'/fig/pingouins_1d_2.png', dpi=fig.dpi, bbox_inches='tight',transparent=True) \n",
    "plt.show()"
   ]
  },
  {
   "cell_type": "markdown",
   "metadata": {},
   "source": [
    "## plt.savefig(..., **trasparent=True**)  permet d'enrégistrer une figure avec un arrière plan transparent\n",
    "\n",
    "."
   ]
  },
  {
   "cell_type": "code",
   "execution_count": null,
   "metadata": {},
   "outputs": [],
   "source": [
    "#2d\n",
    "fig = plt.figure(figsize=(5,4), dpi=150)\n",
    "\n",
    "sns.displot(kind='kde',#'kde','hist'\n",
    "            data=penguins,\n",
    "            x = 'flipper_length_mm',\n",
    "            y = 'bill_length_mm',\n",
    "            fill=True,\n",
    "            alpha=.7,\n",
    "            hue='species',\n",
    "            col='island',\n",
    "            rug=True\n",
    "            )\n",
    "plt.savefig(repertoire+'/fig/pingouins_2d.png', dpi=fig.dpi, bbox_inches='tight')\n",
    "plt.show()"
   ]
  },
  {
   "cell_type": "markdown",
   "metadata": {},
   "source": [
    "# Jeu de données exemple 3: \n",
    "# Survivants du Titanic"
   ]
  },
  {
   "cell_type": "code",
   "execution_count": null,
   "metadata": {},
   "outputs": [],
   "source": [
    "titanic = pd.read_csv('../data/titanic.csv')\n",
    "titanic\n",
    "titanic.describe(include='all') # statistique descriptive des donnees"
   ]
  },
  {
   "cell_type": "markdown",
   "metadata": {},
   "source": [
    "# CATPLOT: \n",
    "Comparer des données par catégorie\n",
    "\n",
    "On peut représenter :\n",
    "* l'ensemble des valeurs (**stripplot**, **swarmplot**)\n",
    "* des distributions (**violin**, **box**, **boxen**)\n",
    "* des estimations (**pointplot**, **barplot**, **countplot**)\n",
    "\n"
   ]
  },
  {
   "cell_type": "code",
   "execution_count": null,
   "metadata": {},
   "outputs": [],
   "source": [
    "sns.catplot(kind = 'point',#strip, violin, box, boxen, point\n",
    "            data = titanic,\n",
    "            x = 'fare',\n",
    "            y = 'alive',\n",
    "            hue='sex',\n",
    "            row='alone',\n",
    "            col='embark_town',\n",
    "            # split=True, #if violin\n",
    "            aspect =2, height=2\n",
    "           )\n",
    "plt.show()"
   ]
  },
  {
   "cell_type": "code",
   "execution_count": null,
   "metadata": {},
   "outputs": [],
   "source": [
    "sns.catplot(kind = 'boxen',#strip, violin, box, boxen, point\n",
    "            data = titanic,\n",
    "            x = 'fare',\n",
    "            # y = 'sex',\n",
    "            # showfliers=False,\n",
    "            hue='alive',\n",
    "            # # row='alive',\n",
    "            # col='embark_town',\n",
    "            # split=True, #if violin\n",
    "            aspect =2, height=2\n",
    "           )\n",
    "plt.show()"
   ]
  },
  {
   "cell_type": "markdown",
   "metadata": {},
   "source": [
    "# Jeu de données exemple 4 : \n",
    "# Passagers de vols en avion"
   ]
  },
  {
   "cell_type": "code",
   "execution_count": null,
   "metadata": {},
   "outputs": [],
   "source": [
    "flights = pd.read_csv('../data/flights.csv')\n",
    "flights = flights.pivot(columns='year',index='month').passengers\n",
    "flights"
   ]
  },
  {
   "cell_type": "markdown",
   "metadata": {},
   "source": [
    "# HEATMAP: \n",
    "Représenter des données cycliques"
   ]
  },
  {
   "cell_type": "code",
   "execution_count": null,
   "metadata": {},
   "outputs": [],
   "source": [
    "fig, ax = plt.subplots(figsize=(12,8))\n",
    "sns.heatmap(flights, \n",
    "            cmap=\"gnuplot2\",#viridis    \n",
    "            square=True, \n",
    "            linewidth=2, \n",
    "            annot=True,\n",
    "            fmt = '03d',\n",
    "           )\n",
    "plt.show()"
   ]
  },
  {
   "cell_type": "markdown",
   "metadata": {},
   "source": [
    "# Displot +  Relplot avec **jointplot**"
   ]
  },
  {
   "cell_type": "code",
   "execution_count": null,
   "metadata": {},
   "outputs": [],
   "source": [
    "plot = sns.jointplot(data=penguins, \n",
    "              x = 'flipper_length_mm',\n",
    "              y = 'bill_length_mm',\n",
    "              #kind='hex', # “scatter” | “kde” | “hist” | “hex” | “reg” | “resid” \n",
    "              hue='species',\n",
    "              #hue_order=['Chinstrap','Gentoo','Adelie'],\n",
    "            )\n",
    "#plt.grid()\n",
    "plt.show()"
   ]
  },
  {
   "cell_type": "markdown",
   "metadata": {},
   "source": [
    "# **pairplot** pour toutes les relations entre les variables"
   ]
  },
  {
   "cell_type": "code",
   "execution_count": null,
   "metadata": {},
   "outputs": [],
   "source": [
    "sns.pairplot(penguins, \n",
    "             diag_kind='kde',#hist, kde, ecdf\n",
    "             kind='scatter',#scatter,kde,hist\n",
    "             # fill=True,\n",
    "             hue='species', \n",
    "             palette='colorblind', \n",
    "             corner=True,\n",
    "             hue_order=['Chinstrap','Gentoo','Adelie'],\n",
    "             )\n",
    "plt.show()"
   ]
  },
  {
   "cell_type": "markdown",
   "metadata": {},
   "source": [
    "# Jeu de données exemple 5 : \n",
    "# **Exoplanètes**"
   ]
  },
  {
   "cell_type": "code",
   "execution_count": null,
   "metadata": {},
   "outputs": [],
   "source": [
    "planets = pd.read_csv('../data/planets.csv')\n",
    "planets"
   ]
  },
  {
   "cell_type": "markdown",
   "metadata": {},
   "source": [
    "# Intégration avec matplotlib et styles différents"
   ]
  },
  {
   "cell_type": "code",
   "execution_count": null,
   "metadata": {},
   "outputs": [],
   "source": [
    "# Choix du thème\n",
    "sns.set_theme(style=\"whitegrid\", palette=\"colorblind\")\n",
    "\n",
    "# Plot avec seaborn\n",
    "plot = sns.displot(\n",
    "    data=planets,\n",
    "    # bins = np.arange(1990,2015),\n",
    "    kind='hist',\n",
    "    x='year',\n",
    "    hue='method',\n",
    "    multiple='stack',#fill\n",
    "    edgecolor='white',\n",
    "    aspect=2,\n",
    "    shrink=0.9,\n",
    ")\n",
    "\n",
    "# Modifier la figure avec matplotlib\n",
    "ax = plot.axes[0,0]\n",
    "ax.grid(axis='y', alpha=.5)\n",
    "ax.set_title(\"Méthode de découverte d'exoplanètes\")\n",
    "ax.set_ylabel(\"Nombre d'exoplanètes\")\n",
    "ax.set_xlabel(\"Année de découverte\")\n",
    "plot.legend.set_title('Méthode')\n",
    "plt.show()"
   ]
  },
  {
   "cell_type": "markdown",
   "metadata": {},
   "source": [
    "# Jeu de données exemple 6 : \n",
    "# **Les FastFoods**"
   ]
  },
  {
   "cell_type": "code",
   "execution_count": null,
   "metadata": {
    "colab": {
     "base_uri": "https://localhost:8080/",
     "height": 581
    },
    "id": "pqtImDQ5QBoU",
    "outputId": "edabeadd-b055-4d1a-c4eb-5cd1933a40a9",
    "scrolled": true,
    "vscode": {
     "languageId": "python"
    }
   },
   "outputs": [],
   "source": [
    "# Line Graph\n",
    "\n",
    "# List of well-known fast food chains\n",
    "restaurants = [\"McDonald's\", 'Yum! Brands', 'Restaurant Brands International', 'Shake Shack', \"Domino's Pizza\"]\n",
    "\n",
    "# Define valid stock symbols or identifiers for each restaurant\n",
    "restaurant_symbols = {\n",
    "    \"McDonald's\": 'MCD',\n",
    "    'Yum! Brands': 'YUM',\n",
    "    'Restaurant BI': 'QSR',\n",
    "    'Shake Shack': 'SHAK',\n",
    "    \"Domino's Pizza\": 'DPZ'  # Using Domino's Pizza as a replacement for 'JFC.PH'\n",
    "}\n",
    "\n",
    "# Data Retrieval: Fetch historical stock data for each restaurant\n",
    "data = yf.download(list(restaurant_symbols.values()), start='2022-01-01', end='2025-07-31')\n",
    "data\n",
    "\n",
    "# Extract only Adj Close prices\n",
    "adj_close_data = {}\n",
    "\n",
    "for restaurant, symbol in restaurant_symbols.items():\n",
    "    if symbol in data.columns.get_level_values(1) and 'Close' in data.columns.get_level_values(0):\n",
    "        adj_close_data[restaurant] = data['Close'][symbol]\n",
    "\n",
    "adj_close_data = pd.DataFrame(adj_close_data)\n",
    "\n",
    "#print(f\"Adj Close prices shape: {adj_close_data.shape}\")\n",
    "#print(\"\\nFirst few rows of Adj Close prices:\")\n",
    "#print(adj_close_data.head())\n",
    "\n",
    "# Plot using clean DataFrame (Alternative method)\n",
    "plt.figure(figsize=(12, 8))\n",
    "\n",
    "for restaurant in adj_close_data.columns:\n",
    "   plt.plot(adj_close_data.index, adj_close_data[restaurant], label=restaurant, linewidth=2, alpha=0.8)\n",
    "    \n",
    "plt.xlabel('Date')\n",
    "plt.ylabel('Stock Price (Adjusted Close)')\n",
    "plt.title('Stock Values of Fast Food Restaurants ($2022-2025$)')\n",
    "plt.legend() # loc='upper left',ncols=3,framealpha=.1)  # Legend placement in the top right\n",
    "#plt.grid(True)\n",
    "plt.show()\n"
   ]
  },
  {
   "cell_type": "markdown",
   "metadata": {
    "id": "d7VpMZj4UEMT",
    "vscode": {
     "languageId": "python"
    }
   },
   "source": [
    "## histogramme horizontal"
   ]
  },
  {
   "cell_type": "code",
   "execution_count": null,
   "metadata": {
    "colab": {
     "base_uri": "https://localhost:8080/",
     "height": 581
    },
    "id": "k5zJk0z7QPOz",
    "outputId": "95f9537d-6820-4830-b729-eb88bea393b3",
    "vscode": {
     "languageId": "python"
    }
   },
   "outputs": [],
   "source": [
    "# Bar Graph\n",
    "\n",
    "# List of well-known fast food chains\n",
    "restaurants = [\"McDonald's\", 'Yum! Brands', 'RBI', 'Shake Shack', \"Domino's Pizza\"]\n",
    "\n",
    "# Define valid stock symbols or identifiers for each restaurant\n",
    "restaurant_symbols = {\n",
    "    \"McDonald's\": 'MCD',\n",
    "    'Yum! Brands': 'YUM',\n",
    "    'RBI': 'QSR',\n",
    "    'Shake Shack': 'SHAK',\n",
    "    \"Domino's Pizza\": 'DPZ'\n",
    "}\n",
    "\n",
    "# Data Retrieval: Fetch historical stock data for each restaurant\n",
    "data = yf.download(list(restaurant_symbols.values()), start='2022-01-01', end='2025-07-31')\n",
    "\n",
    "# Extract the adjusted close prices for the last day of 2022\n",
    "last_day_close_prices = data.loc['2024-12-30', 'Close']\n",
    "\n",
    "# Define colors for the bars\n",
    "colors = ['royalblue', 'forestgreen', 'tomato', 'orange', 'mediumorchid']\n",
    "\n",
    "# Create a bar chart with different colors for each restaurant\n",
    "plt.figure(figsize=(10, 6))\n",
    "bars = plt.barh(list(restaurant_symbols.keys()), last_day_close_prices, color=colors)\n",
    "plt.xlabel('Stock Price (Adjusted Close)')\n",
    "plt.title('Stock Values of Fast Food Restaurants (Last Day of 2024)')\n",
    "\n",
    "# Add a legend\n",
    "legend_labels = [f'{restaurant}: ${price:.2f}' for restaurant, price in zip(restaurant_symbols.keys(), last_day_close_prices)]\n",
    "plt.legend(bars, legend_labels, loc='upper right')\n",
    "\n",
    "plt.grid(axis='x')\n",
    "plt.show()\n"
   ]
  },
  {
   "cell_type": "markdown",
   "metadata": {},
   "source": [
    "## diagramme en étoile"
   ]
  },
  {
   "cell_type": "code",
   "execution_count": null,
   "metadata": {
    "colab": {
     "base_uri": "https://localhost:8080/",
     "height": 696
    },
    "id": "8vI5Yn1YQXVL",
    "outputId": "8fb8639c-f308-40c7-bd37-277b9b823ca8",
    "vscode": {
     "languageId": "python"
    }
   },
   "outputs": [],
   "source": [
    "# Radar Graph\n",
    "\n",
    "# List of well-known fast food chains\n",
    "restaurants = [\"McDonald's\", 'Yum! Brands', 'RBI', 'Shake Shack', \"Domino's Pizza\"]\n",
    "\n",
    "# Define attributes or performance metrics for each restaurant\n",
    "attributes = ['Revenue', 'Customer Satisfaction', 'Brand Recognition', 'Profit Margin', 'Market Share']\n",
    "\n",
    "# Create a data dictionary with randomized attributes and values for each restaurant\n",
    "data = {}\n",
    "\n",
    "for restaurant in restaurants:\n",
    "    data[restaurant] = [random.uniform(6, 9) for _ in range(len(attributes))]\n",
    "\n",
    "# Create a radar chart\n",
    "plt.figure(figsize=(8, 8))\n",
    "angles = np.linspace(0, 2 * np.pi, len(attributes), endpoint=False).tolist()\n",
    "angles += angles[:1]\n",
    "\n",
    "for restaurant in restaurants:\n",
    "    values = data[restaurant]\n",
    "    values += values[:1]  # Close the plot\n",
    "    plt.polar(angles, values, marker='o', label=restaurant)\n",
    "\n",
    "plt.suptitle('Performance Comparison of Fast Food Restaurants (Randomized Data)')\n",
    "plt.xticks(angles[:-1], attributes)\n",
    "plt.legend(loc='upper right', bbox_to_anchor=(1.2, 1))\n",
    "plt.grid(True)\n",
    "\n",
    "plt.show()\n"
   ]
  },
  {
   "cell_type": "markdown",
   "metadata": {},
   "source": [
    "# Jeu de données exemple 7 : \n",
    "# **Autres jeux de données (iris, ...)**"
   ]
  },
  {
   "cell_type": "markdown",
   "metadata": {},
   "source": [
    "## Correlogram\n",
    "## relations croisées entre toutes les variables"
   ]
  },
  {
   "cell_type": "code",
   "execution_count": null,
   "metadata": {
    "colab": {
     "base_uri": "https://localhost:8080/",
     "height": 1000
    },
    "id": "aPhfUKjwYIio",
    "outputId": "c27c0074-25c1-4794-a9da-ade7e7019ab7",
    "vscode": {
     "languageId": "python"
    }
   },
   "outputs": [],
   "source": [
    "# Correlogram\n",
    "\n",
    "df = sns.load_dataset('iris')\n",
    "#data = pd.DataFrame(data)\n",
    "\n",
    "# Basic correlogram\n",
    "sns.pairplot(df)\n",
    "#sns.pairplot(data)\n",
    "plt.show()"
   ]
  },
  {
   "cell_type": "markdown",
   "metadata": {},
   "source": [
    "## Pie Chart"
   ]
  },
  {
   "cell_type": "code",
   "execution_count": null,
   "metadata": {
    "colab": {
     "base_uri": "https://localhost:8080/",
     "height": 521
    },
    "id": "bHmIwXf8_OXw",
    "outputId": "792937b3-01d5-4762-e750-1f7355096ae1",
    "vscode": {
     "languageId": "python"
    }
   },
   "outputs": [],
   "source": [
    "# Pie Chart\n",
    "# Define data for a pie chart\n",
    "car_brands = ['Toyota', 'Ford', 'Honda', 'Chevrolet', 'Volkswagen']\n",
    "market_share = [25, 20, 15, 10, 30]  # Market share percentages for each car brand\n",
    "\n",
    "# Create a pie chart\n",
    "plt.figure(figsize=(6, 6))\n",
    "plt.pie(market_share, labels=car_brands, autopct='%1.1f%%', startangle=140)\n",
    "plt.title('Car Brand Market Share')\n",
    "\n",
    "# Display the chart\n",
    "plt.show()"
   ]
  },
  {
   "cell_type": "markdown",
   "metadata": {},
   "source": [
    "## Stacked Area Chart"
   ]
  },
  {
   "cell_type": "code",
   "execution_count": null,
   "metadata": {
    "colab": {
     "base_uri": "https://localhost:8080/",
     "height": 564
    },
    "id": "GCE_NwyoBL16",
    "outputId": "cf6fe6fa-3199-45b3-c13b-2b5e63fc45c3",
    "vscode": {
     "languageId": "python"
    }
   },
   "outputs": [],
   "source": [
    "# Stacked Area Chart\n",
    "\n",
    "# Define data for a stacked area chart\n",
    "years = [2010, 2011, 2012, 2013, 2014, 2015]\n",
    "car_brands = ['Toyota', 'Ford', 'Honda', 'Chevrolet']\n",
    "sales = {\n",
    "    'Toyota': [10000, 12000, 11000, 13000, 14000, 15000],\n",
    "    'Ford': [8000, 9500, 9000, 10000, 11000, 12000],\n",
    "    'Honda': [7000, 8500, 8000, 9500, 10000, 10500],\n",
    "    'Chevrolet': [6000, 7500, 7000, 8000, 8500, 9000]\n",
    "}\n",
    "\n",
    "# Create a stacked area chart\n",
    "plt.figure(figsize=(10, 6))\n",
    "plt.stackplot(years, sales.values(), labels=sales.keys(), alpha=0.7)\n",
    "plt.xlabel('Year')\n",
    "plt.ylabel('Car Sales')\n",
    "plt.title('Stacked Area Chart of Car Sales Over Time')\n",
    "plt.legend(loc='upper left')\n",
    "\n",
    "# Display the chart\n",
    "plt.show()"
   ]
  },
  {
   "cell_type": "markdown",
   "metadata": {},
   "source": [
    "## Venn Diagram"
   ]
  },
  {
   "cell_type": "code",
   "execution_count": null,
   "metadata": {
    "colab": {
     "base_uri": "https://localhost:8080/",
     "height": 407
    },
    "id": "2GujMyMuBnXJ",
    "outputId": "bf14403c-c276-488f-aaa6-22b9a44d890b",
    "vscode": {
     "languageId": "python"
    }
   },
   "outputs": [],
   "source": [
    "# Venn Diagram\n",
    "\n",
    "# Define the sets or groups\n",
    "car_attributes = set(['Safety', 'Fuel Efficiency', 'Reliability', 'Performance','Brand'])\n",
    "car_features = set(['Fuel Efficiency', 'Reliability', 'Comfort', 'Price'])\n",
    "\n",
    "# Calculate the sizes and intersection\n",
    "size_attributes = len(car_attributes)\n",
    "size_features = len(car_features)\n",
    "intersection_size = len(car_attributes.intersection(car_features))\n",
    "\n",
    "# Create a Venn diagram\n",
    "venn2(subsets=(size_attributes, size_features, intersection_size), set_labels=('Car Attributes', 'Car Features'))\n",
    "\n",
    "# Display the diagram\n",
    "plt.title(\"Venn Diagram for Car Attributes and Features\")\n",
    "plt.show()"
   ]
  },
  {
   "cell_type": "markdown",
   "metadata": {
    "id": "o0uAs4IjBbPp",
    "vscode": {
     "languageId": "python"
    }
   },
   "source": [
    "## Histogram"
   ]
  },
  {
   "cell_type": "code",
   "execution_count": null,
   "metadata": {
    "colab": {
     "base_uri": "https://localhost:8080/",
     "height": 992
    },
    "id": "zcld_jkUChSI",
    "outputId": "a2f8eb49-de63-425e-89ba-258997c21bf1",
    "vscode": {
     "languageId": "python"
    }
   },
   "outputs": [],
   "source": [
    "# Histogram\n",
    "\n",
    "# Load the Iris dataset\n",
    "df = sns.load_dataset('iris')\n",
    "\n",
    "# Set a dark grid style\n",
    "sns.set(style=\"white\") # darkgrid\n",
    "\n",
    "# Create a figure with subplots\n",
    "fig, axes = plt.subplots(2, 2, figsize=(10, 8))\n",
    "\n",
    "# Plot the first histogram\n",
    "sns.histplot(data=df, x=\"sepal_length\", ax=axes[0, 0])\n",
    "axes[0, 0].set_title(\"Histogram (KDE=False)\")\n",
    "\n",
    "# Plot the second histogram with a KDE plot\n",
    "sns.histplot(data=df, x=\"sepal_length\", kde=True, ax=axes[0, 1])\n",
    "axes[0, 1].set_title(\"Histogram with KDE\")\n",
    "\n",
    "# Plot the third histogram using distplot (deprecated in Seaborn v0.11+)\n",
    "sns.distplot(df[\"sepal_length\"], ax=axes[1, 0])\n",
    "axes[1, 0].set_title(\"distplot (deprecated)\")\n",
    "\n",
    "# Plot the fourth histogram with more bins\n",
    "sns.histplot(data=df, x=\"sepal_length\", bins=20, ax=axes[1, 1])\n",
    "axes[1, 1].set_title(\"Histogram with 20 Bins\"https://static.wixstatic.com/media/c030d3_ea7eb8d8e7524f02a790584333376eb9~mv2.png/v1/fill/w_1200,h_630,al_c/c030d3_ea7eb8d8e7524f02a790584333376eb9~mv2.png)\n",
    "\n",
    "# Adjust layout\n",
    "plt.tight_layout()\n",
    "\n",
    "# Show the combined plot\n",
    "plt.show()"
   ]
  },
  {
   "cell_type": "markdown",
   "metadata": {},
   "source": [
    "## Density Plot"
   ]
  },
  {
   "cell_type": "code",
   "execution_count": null,
   "metadata": {
    "colab": {
     "base_uri": "https://localhost:8080/",
     "height": 480
    },
    "id": "5mFbLuSBDn6v",
    "outputId": "8bba2b73-d0a6-48d2-ae81-3e21421a32eb",
    "vscode": {
     "languageId": "python"
    }
   },
   "outputs": [],
   "source": [
    "# Density Plot\n",
    "# Load the Iris dataset\n",
    "df = sns.load_dataset('iris')\n",
    "\n",
    "fig= plt.figure(dpi=150)\n",
    "\n",
    "# Set a dark grid style\n",
    "sns.set(style=\"darkgrid\")\n",
    "\n",
    "# Create density plots for all four attributes\n",
    "sns.kdeplot(data=df, x=\"sepal_length\", fill=True, color=\"skyblue\", label=\"Sepal Length\")\n",
    "sns.kdeplot(data=df, x=\"petal_length\", fill=True, color=\"orange\", label=\"Petal Length\")\n",
    "sns.kdeplot(data=df, x=\"sepal_width\", fill=True, color=\"green\", label=\"Sepal Width\")\n",
    "sns.kdeplot(data=df, x=\"petal_width\", fill=True, color=\"red\", label=\"Petal Width\")\n",
    "\n",
    "# Label and title\n",
    "plt.xlabel('Measurements')\n",
    "plt.ylabel('Density')\n",
    "plt.title('Density Plot of Sepal and Petal Attributes in Iris Dataset')\n",
    "\n",
    "plt.legend(loc=1,ncols=1)\n",
    "plt.savefig(repertoire+'/fig/iris_kde.png', dpi=fig.dpi, bbox_inches='tight',transparent=False)\n",
    "\n",
    "# Display the density plot\n",
    "plt.show()\n"
   ]
  },
  {
   "cell_type": "code",
   "execution_count": null,
   "metadata": {},
   "outputs": [],
   "source": [
    "# Load the Iris dataset\n",
    "df = sns.load_dataset('iris')\n",
    "#print(df.columns[0])\n",
    "color = [\"skyblue\",\"green\",\"orange\",\"red\"]\n",
    "titre = [str(df.columns[i]) for i in range(4)]\n",
    "\n",
    "fig= plt.figure(dpi=150)\n",
    "\n",
    "for i, (var,cl,tt) in enumerate(zip(df,color,titre)):\n",
    "    if var!=\"species\":\n",
    "        sns.kdeplot(data=df, x=var, fill=True, color=cl, label=tt)\n",
    "        \n",
    "plt.legend()\n",
    "# Label and title\n",
    "plt.xlabel('Measurements')\n",
    "plt.ylabel('Density')\n",
    "plt.title('Density Plot of Sepal and Petal Attributes in Iris Dataset')\n",
    "\n",
    "plt.show()"
   ]
  },
  {
   "cell_type": "code",
   "execution_count": null,
   "metadata": {},
   "outputs": [],
   "source": [
    "# Density Plot\n",
    "# Set a dark grid style\n",
    "sns.set(style=\"white\")\n",
    "\n",
    "# Load the Iris dataset\n",
    "df = sns.load_dataset('iris')\n",
    "\n",
    "fig, ax = plt.subplots(dpi=100)\n",
    "plt.axis('off')  # faire disparaitre les axes (gauche, droite, haut et bas)\n",
    "\n",
    "#\n",
    "# Create density plots for all four attributes\n",
    "sns.kdeplot(data=df, x=\"sepal_length\", fill=True, color=\"skyblue\", label=\"Sepal Length\")\n",
    "sns.kdeplot(data=df, x=\"petal_length\", fill=True, color=\"orange\", label=\"Petal Length\")\n",
    "sns.kdeplot(data=df, x=\"sepal_width\", fill=True, color=\"green\", label=\"Sepal Width\")\n",
    "sns.kdeplot(data=df, x=\"petal_width\", fill=True, color=\"red\", label=\"Petal Width\")\n",
    "#\n",
    "# Label and title\n",
    "#plt.title('Density Plot of Sepal and Petal Attributes in Iris Dataset')\n",
    "# \n",
    "plt.legend(loc=2,ncols=1)\n",
    "plt.savefig(repertoire+'/fig/iris_kde2.png', dpi=fig.dpi, bbox_inches='tight',transparent=True)\n",
    "\n",
    "# Display the density plot\n",
    "plt.show()\n"
   ]
  },
  {
   "cell_type": "markdown",
   "metadata": {},
   "source": [
    "## Box Plot"
   ]
  },
  {
   "cell_type": "code",
   "execution_count": null,
   "metadata": {
    "colab": {
     "base_uri": "https://localhost:8080/",
     "height": 480
    },
    "id": "uj8374uEEabP",
    "outputId": "ecf17a66-2705-48b7-ed03-40437c5e5ff7",
    "vscode": {
     "languageId": "python"
    }
   },
   "outputs": [],
   "source": [
    "# Box Plot\n",
    "# Load the Iris dataset\n",
    "df = sns.load_dataset('iris')\n",
    "\n",
    "# Set a dark grid style\n",
    "sns.set(style=\"darkgrid\")\n",
    "\n",
    "# Create a box plot for sepal length by species\n",
    "sns.boxplot(data=df, x=\"species\", y=\"sepal_length\", palette=\"Set2\")\n",
    "\n",
    "# Label and title\n",
    "plt.xlabel('Species')\n",
    "plt.ylabel('Sepal Length')\n",
    "plt.title('Box Plot of Sepal Length by Species in Iris Dataset')\n",
    "\n",
    "# Display the box plot\n",
    "plt.show()"
   ]
  },
  {
   "cell_type": "markdown",
   "metadata": {},
   "source": [
    "## Violin Plot"
   ]
  },
  {
   "cell_type": "code",
   "execution_count": null,
   "metadata": {
    "colab": {
     "base_uri": "https://localhost:8080/",
     "height": 480
    },
    "id": "1K1xsB4dE1TG",
    "outputId": "a106deb9-2298-47cd-f098-9dc0409ec1a6",
    "vscode": {
     "languageId": "python"
    }
   },
   "outputs": [],
   "source": [
    "# Violin Plot\n",
    "\n",
    "# Load the Iris dataset\n",
    "df = sns.load_dataset('iris')\n",
    "\n",
    "# Set a dark grid style\n",
    "sns.set(style=\"darkgrid\")\n",
    "\n",
    "# Create a violin plot for sepal_length\n",
    "sns.violinplot(data=df, x=\"species\", y=\"sepal_length\", palette=\"Set2\")\n",
    "\n",
    "# Label and title\n",
    "plt.xlabel('Species')\n",
    "plt.ylabel('Sepal Length')\n",
    "plt.title('Violin Plot of Sepal Length in Iris Dataset')\n",
    " \n",
    "# Display the violin plot\n",
    "plt.show()"
   ]
  },
  {
   "cell_type": "markdown",
   "metadata": {},
   "source": [
    "# Jeu de données exemple 8 : \n",
    "## **Données sur les Films**"
   ]
  },
  {
   "cell_type": "markdown",
   "metadata": {},
   "source": [
    "## Dot Plot"
   ]
  },
  {
   "cell_type": "code",
   "execution_count": null,
   "metadata": {},
   "outputs": [],
   "source": [
    "ratings = df = pd.read_csv('../data/ratings.csv', encoding='utf-8', sep=',')\n",
    "ratings"
   ]
  },
  {
   "cell_type": "code",
   "execution_count": null,
   "metadata": {
    "colab": {
     "base_uri": "https://localhost:8080/",
     "height": 856
    },
    "id": "IKrwXXtCFIF2",
    "outputId": "1fad7336-28b3-4a65-bef6-4bd564d8ed17",
    "vscode": {
     "languageId": "python"
    }
   },
   "outputs": [],
   "source": [
    "# Dot Plot\n",
    "\n",
    "# Set the background color for the plot\n",
    "sns.set(rc={'axes.facecolor': 'lavender'})\n",
    "\n",
    "ratings = df = pd.read_csv('../data/ratings.csv', encoding='utf-8', sep=',')\n",
    "\n",
    "# Sort values by rating\n",
    "ratings = ratings.sort_values(by=['You rated'])\n",
    "\n",
    "# Loop to create a new variable for the dot plot\n",
    "movie_count = []\n",
    "\n",
    "for index, year in enumerate(ratings['Year']):\n",
    "    subset = ratings.iloc[:index + 1]\n",
    "    count = len(subset[subset['Year'] == year])\n",
    "    movie_count.append(count)\n",
    "\n",
    "# Data for the plot\n",
    "x = ratings['Year']\n",
    "y = movie_count\n",
    "hue = ratings['You rated']\n",
    "\n",
    "# Create a dot plot using the scatter plot function\n",
    "plt.figure(figsize=(15, 10))\n",
    "ax = sns.scatterplot(x=x, y=y, hue=hue, size=hue, palette=\"RdYlGn\")\n",
    "plt.legend()\n",
    "#ax.get_legend().remove()  # Remove the default legend\n",
    "plt.xlim([1950, 2020])  # Adjust the x-axis limits based on your data\n",
    "plt.ylabel(\"Count\", size=14)\n",
    "plt.xlabel(\"Release year\", size=14)\n",
    "plt.title(\"Movies seen by year and rating\", size=20)\n",
    "plt.show()"
   ]
  },
  {
   "cell_type": "markdown",
   "metadata": {},
   "source": [
    "# Jeu de données exemple 9 : \n",
    "# **espérance de vie à l'échelle mondiale**"
   ]
  },
  {
   "cell_type": "markdown",
   "metadata": {},
   "source": [
    "## Chloropeth"
   ]
  },
  {
   "cell_type": "code",
   "execution_count": null,
   "metadata": {},
   "outputs": [],
   "source": [
    "import plotly.express as px\n",
    "\n",
    "# Sample data for choropleth map\n",
    "data = px.data.gapminder()\n",
    "data"
   ]
  },
  {
   "cell_type": "code",
   "execution_count": null,
   "metadata": {
    "colab": {
     "base_uri": "https://localhost:8080/",
     "height": 542
    },
    "id": "xS8mKXDaJsWF",
    "outputId": "680cb96c-75eb-4bd5-849e-fc7f24cc64a5",
    "vscode": {
     "languageId": "python"
    }
   },
   "outputs": [],
   "source": [
    "# Chloropeth\n",
    "import plotly.express as px\n",
    "#folium\n",
    "\n",
    "# Sample data for choropleth map\n",
    "data = px.data.gapminder()\n",
    "#print(data.describe(include='all'))\n",
    "\n",
    "# Create a choropleth map\n",
    "fig = px.choropleth(\n",
    "    data,\n",
    "    locations=\"iso_alpha\",  # ISO country codes\n",
    "    color=\"lifeExp\",  # pop, lifeExp, gpdPercap\n",
    "    hover_name=\"country\",  # Hover text\n",
    "    animation_frame=\"year\",  # Year as animation frame\n",
    "    projection=\"natural earth\",  # Map projection\n",
    "    title=\"Life Expectancy Over Time\",\n",
    "    range_color=[20, 95]  # Set min and max values\n",
    ")\n",
    "# Update the colorbar after creation\n",
    "#fig.update_layout(coloraxis_colorbar=dict(title=\"Life Exp\", tickmode=\"array\", tickvals=[0, 25, 45, 65, 80, 95],  \n",
    " #       ticktext=['Null', 'Low\\n25', 'Med-Low\\n45', 'Medium\\n65', 'Med-High\\n80', 'High\\n90']))\n",
    "\n",
    "# Save as HTML file\n",
    "fig.write_html(\"choropleth_map.html\")\n",
    "\n",
    "# Show the map\n",
    "fig.show()\n"
   ]
  },
  {
   "cell_type": "markdown",
   "metadata": {},
   "source": [
    "# Jeu de données 8\n",
    "# vol internationaux depuis le Brésil"
   ]
  },
  {
   "cell_type": "code",
   "execution_count": null,
   "metadata": {},
   "outputs": [],
   "source": [
    "import pandas as pd\n",
    "df = pd.read_csv(\"../data/BrFlights2.csv\",  encoding=\"latin1\",  on_bad_lines='skip') #error_bad_lines=False)\n",
    "df"
   ]
  },
  {
   "cell_type": "code",
   "execution_count": null,
   "metadata": {
    "colab": {
     "base_uri": "https://localhost:8080/",
     "height": 777
    },
    "id": "3CAjsLx2L720",
    "outputId": "e1990a76-edee-443a-ea4d-c30a925f76df",
    "vscode": {
     "languageId": "python"
    }
   },
   "outputs": [],
   "source": [
    "import pandas as pd\n",
    "import geopandas as gpd\n",
    "import matplotlib.pyplot as plt\n",
    "import plotly.graph_objects as go\n",
    "\n",
    "print(\"Available Pandas Datasets\", gpd.datasets.available)\n",
    "\n",
    "df = pd.read_csv(\"../data/BrFlights2.csv\",encoding=\"latin1\",  on_bad_lines='skip') # nrows=50000, error_bad_lines=False)\n",
    "df = df[[\"Voos\", \"Companhia.Aerea\",\"LongDest\",\"LatDest\",\"LongOrig\",\"LatOrig\", \"Cidade.Origem\", \"Cidade.Destino\", \"Pais.Origem\", \"Pais.Destino\"]]\n",
    "print(\"Dataset Size : \",df.shape)\n",
    "df.head()\n",
    "\n",
    "overseas_df = df[(df[\"Pais.Origem\"] != df[\"Pais.Destino\"]) & (df[\"Pais.Destino\"] != \"Brasil\")]\n",
    "overseas_cnt_df = overseas_df.groupby([\"LongDest\",\"LatDest\",\"LongOrig\",\"LatOrig\"]).count()[[\"Voos\"]].rename(columns={\"Voos\":\"Num_Of_Flights\"}).reset_index()\n",
    "overseas_cnt_df = overseas_cnt_df.merge(df, how=\"left\", left_on=[\"LongDest\",\"LatDest\",\"LongOrig\",\"LatOrig\"], right_on=[\"LongDest\",\"LatDest\",\"LongOrig\",\"LatOrig\"])\n",
    "\n",
    "print(\"International Travel Dataset Size : \", overseas_cnt_df.shape)\n",
    "\n",
    "## Please make a note that we are only taking first 1k to make run easy.\n",
    "overseas_cnt_df = overseas_cnt_df#.sample(frac=1.0).head(1000)\n",
    "\n",
    "print(\"International Travel Dataset Size After Filtering : \", overseas_cnt_df.shape)\n",
    "\n",
    "overseas_cnt_df.head()\n",
    "\n",
    "brazil_df = df[df[\"Pais.Origem\"] == df[\"Pais.Destino\"]]\n",
    "brazil_cnt_df = brazil_df.groupby([\"LongDest\",\"LatDest\",\"LongOrig\",\"LatOrig\"]).count()[[\"Voos\"]].rename(columns={\"Voos\":\"Num_Of_Flights\"}).reset_index()\n",
    "brazil_cnt_df = brazil_cnt_df.merge(df, how=\"left\", left_on=[\"LongDest\",\"LatDest\",\"LongOrig\",\"LatOrig\"], right_on=[\"LongDest\",\"LatDest\",\"LongOrig\",\"LatOrig\"])\n",
    "\n",
    "print(\"Domestic Travel Dataset : \", brazil_cnt_df.shape)\n",
    "\n",
    "## Please make a note that we are only taking first 5k to make run easy.\n",
    "brazil_cnt_df = brazil_cnt_df#.sample(frac=1.0).head(5000)\n",
    "\n",
    "print(\"Domestic Travel Dataset After Filtering: \", brazil_cnt_df.shape)\n",
    "\n",
    "brazil_cnt_df.head()\n",
    "\n",
    "fig = go.Figure()\n",
    "\n",
    "source_to_dest = zip(overseas_cnt_df[\"LatOrig\"], overseas_cnt_df[\"LatDest\"],\n",
    "                     overseas_cnt_df[\"LongOrig\"], overseas_cnt_df[\"LongDest\"],\n",
    "                     overseas_cnt_df[\"Num_Of_Flights\"])\n",
    "\n",
    "## Loop thorugh each flight entry to add line between source and destination\n",
    "for slat,dlat, slon, dlon, num_flights in source_to_dest:\n",
    "    fig.add_trace(go.Scattergeo(\n",
    "                        lat = [slat,dlat],\n",
    "                        lon = [slon, dlon],\n",
    "                        mode = 'lines',\n",
    "                        line = dict(width = num_flights/100, color=\"red\")\n",
    "                        ))\n",
    "\n",
    "## Logic to create labels of source and destination cities of flights\n",
    "cities = overseas_cnt_df[\"Cidade.Origem\"].values.tolist()+overseas_cnt_df[\"Cidade.Destino\"].values.tolist()\n",
    "countries = overseas_cnt_df[\"Pais.Origem\"].values.tolist()+overseas_cnt_df[\"Pais.Destino\"].values.tolist()\n",
    "scatter_hover_data = [country + \" : \"+ city for city, country in zip(cities, countries)]\n",
    "\n",
    "## Loop thorugh each flight entry to plot source and destination as points.\n",
    "fig.add_trace(\n",
    "    go.Scattergeo(\n",
    "                lon = overseas_cnt_df[\"LongOrig\"].values.tolist()+overseas_cnt_df[\"LongDest\"].values.tolist(),\n",
    "                lat = overseas_cnt_df[\"LatOrig\"].values.tolist()+overseas_cnt_df[\"LatDest\"].values.tolist(),\n",
    "                hoverinfo = 'text',\n",
    "                text = scatter_hover_data,\n",
    "                mode = 'markers',\n",
    "                marker = dict(size = 10, color = 'blue', opacity=0.1,))\n",
    "    )\n",
    "\n",
    "## Update graph layout to improve graph styling.\n",
    "fig.update_layout(title_text=\"Connection Map Depicting Flights from Brazil to All Other Countries (Orthographic Projection)\",\n",
    "                  height=500, width=500,\n",
    "                  margin={\"t\":0,\"b\":0,\"l\":0, \"r\":0, \"pad\":0},\n",
    "                  showlegend=False, nrows=50000, \n",
    "                  geo= dict(projection_type = 'orthographic', showland = True, landcolor = 'lightblue', countrycolor = 'grey'))\n",
    "\n",
    "# Save as HTML file\n",
    "fig.write_html(\"flight_from_Brasil.html\")\n",
    "\n",
    "fig.show()"
   ]
  },
  {
   "cell_type": "code",
   "execution_count": null,
   "metadata": {},
   "outputs": [],
   "source": []
  }
 ],
 "metadata": {
  "colab": {
   "provenance": []
  },
  "kernelspec": {
   "display_name": "Python [conda env:base] *",
   "language": "python",
   "name": "conda-base-py"
  },
  "language_info": {
   "codemirror_mode": {
    "name": "ipython",
    "version": 3
   },
   "file_extension": ".py",
   "mimetype": "text/x-python",
   "name": "python",
   "nbconvert_exporter": "python",
   "pygments_lexer": "ipython3",
   "version": "3.12.7"
  },
  "widgets": {
   "application/vnd.jupyter.widget-state+json": {
    "state": {},
    "version_major": 2,
    "version_minor": 0
   }
  }
 },
 "nbformat": 4,
 "nbformat_minor": 4
}
